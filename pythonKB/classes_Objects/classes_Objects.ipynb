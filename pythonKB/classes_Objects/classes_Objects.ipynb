{
 "cells": [
  {
   "cell_type": "code",
   "execution_count": 1,
   "metadata": {
    "collapsed": true
   },
   "outputs": [],
   "source": [
    "class Employee:\n",
    "    \n",
    "    def Details(self, name, age, salary):\n",
    "        self.name = name\n",
    "        self.age = age\n",
    "        self.sal = salary\n",
    "        \n",
    "    def ShowDetails(self):\n",
    "        print(\"Name of Employee is: {}\".format(self.name))\n",
    "        print(\"Name of Employee is: {}\".format(self.age))\n",
    "        print(\"Name of Employee is: {}\".format(self.sal))\n",
    "        "
   ]
  },
  {
   "cell_type": "code",
   "execution_count": 2,
   "metadata": {
    "collapsed": true
   },
   "outputs": [],
   "source": [
    "emp = Employee()"
   ]
  },
  {
   "cell_type": "code",
   "execution_count": 4,
   "metadata": {},
   "outputs": [
    {
     "data": {
      "text/plain": [
       "{}"
      ]
     },
     "execution_count": 4,
     "metadata": {},
     "output_type": "execute_result"
    }
   ],
   "source": [
    "emp.__dict__"
   ]
  },
  {
   "cell_type": "code",
   "execution_count": 5,
   "metadata": {},
   "outputs": [
    {
     "ename": "AttributeError",
     "evalue": "'Employee' object has no attribute 'name'",
     "output_type": "error",
     "traceback": [
      "\u001b[1;31m---------------------------------------------------------------------------\u001b[0m",
      "\u001b[1;31mAttributeError\u001b[0m                            Traceback (most recent call last)",
      "\u001b[1;32m<ipython-input-5-bb56d3e1e2cd>\u001b[0m in \u001b[0;36m<module>\u001b[1;34m()\u001b[0m\n\u001b[1;32m----> 1\u001b[1;33m \u001b[0memp\u001b[0m\u001b[1;33m.\u001b[0m\u001b[0mShowDetails\u001b[0m\u001b[1;33m(\u001b[0m\u001b[1;33m)\u001b[0m\u001b[1;33m\u001b[0m\u001b[0m\n\u001b[0m",
      "\u001b[1;32m<ipython-input-1-5ed416cd029a>\u001b[0m in \u001b[0;36mShowDetails\u001b[1;34m(self)\u001b[0m\n\u001b[0;32m      7\u001b[0m \u001b[1;33m\u001b[0m\u001b[0m\n\u001b[0;32m      8\u001b[0m     \u001b[1;32mdef\u001b[0m \u001b[0mShowDetails\u001b[0m\u001b[1;33m(\u001b[0m\u001b[0mself\u001b[0m\u001b[1;33m)\u001b[0m\u001b[1;33m:\u001b[0m\u001b[1;33m\u001b[0m\u001b[0m\n\u001b[1;32m----> 9\u001b[1;33m         \u001b[0mprint\u001b[0m\u001b[1;33m(\u001b[0m\u001b[1;34m\"Name of Employee is: {}\"\u001b[0m\u001b[1;33m.\u001b[0m\u001b[0mformat\u001b[0m\u001b[1;33m(\u001b[0m\u001b[0mself\u001b[0m\u001b[1;33m.\u001b[0m\u001b[0mname\u001b[0m\u001b[1;33m)\u001b[0m\u001b[1;33m)\u001b[0m\u001b[1;33m\u001b[0m\u001b[0m\n\u001b[0m\u001b[0;32m     10\u001b[0m         \u001b[0mprint\u001b[0m\u001b[1;33m(\u001b[0m\u001b[1;34m\"Name of Employee is: {}\"\u001b[0m\u001b[1;33m.\u001b[0m\u001b[0mformat\u001b[0m\u001b[1;33m(\u001b[0m\u001b[0mself\u001b[0m\u001b[1;33m.\u001b[0m\u001b[0mage\u001b[0m\u001b[1;33m)\u001b[0m\u001b[1;33m)\u001b[0m\u001b[1;33m\u001b[0m\u001b[0m\n\u001b[0;32m     11\u001b[0m         \u001b[0mprint\u001b[0m\u001b[1;33m(\u001b[0m\u001b[1;34m\"Name of Employee is: {}\"\u001b[0m\u001b[1;33m.\u001b[0m\u001b[0mformat\u001b[0m\u001b[1;33m(\u001b[0m\u001b[0mself\u001b[0m\u001b[1;33m.\u001b[0m\u001b[0msal\u001b[0m\u001b[1;33m)\u001b[0m\u001b[1;33m)\u001b[0m\u001b[1;33m\u001b[0m\u001b[0m\n",
      "\u001b[1;31mAttributeError\u001b[0m: 'Employee' object has no attribute 'name'"
     ]
    }
   ],
   "source": [
    "emp.ShowDetails()"
   ]
  },
  {
   "cell_type": "code",
   "execution_count": 7,
   "metadata": {},
   "outputs": [],
   "source": [
    "emp.Details(\"Amit\", 26, 12000)"
   ]
  },
  {
   "cell_type": "code",
   "execution_count": 8,
   "metadata": {},
   "outputs": [
    {
     "data": {
      "text/plain": [
       "{'age': 26, 'name': 'Amit', 'sal': 12000}"
      ]
     },
     "execution_count": 8,
     "metadata": {},
     "output_type": "execute_result"
    }
   ],
   "source": [
    "emp.__dict__"
   ]
  },
  {
   "cell_type": "code",
   "execution_count": 9,
   "metadata": {},
   "outputs": [
    {
     "name": "stdout",
     "output_type": "stream",
     "text": [
      "Name of Employee is: Amit\n",
      "Name of Employee is: 26\n",
      "Name of Employee is: 12000\n"
     ]
    }
   ],
   "source": [
    "emp.ShowDetails()"
   ]
  },
  {
   "cell_type": "code",
   "execution_count": 10,
   "metadata": {
    "collapsed": true
   },
   "outputs": [],
   "source": [
    "class Employee:\n",
    "    \n",
    "    def __init__(self, name, age, salary):\n",
    "        print(\"Constructor Called and Variables got init.\")\n",
    "        self.name = name\n",
    "        self.age = age\n",
    "        self.sal = salary\n",
    "        \n",
    "    def ShowDetails(self):\n",
    "        print(\"Name of Employee is: {}\".format(self.name))\n",
    "        print(\"Name of Employee is: {}\".format(self.age))\n",
    "        print(\"Name of Employee is: {}\".format(self.sal))\n",
    "        "
   ]
  },
  {
   "cell_type": "code",
   "execution_count": 12,
   "metadata": {},
   "outputs": [
    {
     "name": "stdout",
     "output_type": "stream",
     "text": [
      "Constructor Called and Variables got init.\n"
     ]
    }
   ],
   "source": [
    "emp = Employee(\"Amit\", 23, 1332132)"
   ]
  },
  {
   "cell_type": "code",
   "execution_count": 13,
   "metadata": {},
   "outputs": [
    {
     "data": {
      "text/plain": [
       "{'age': 23, 'name': 'Amit', 'sal': 1332132}"
      ]
     },
     "execution_count": 13,
     "metadata": {},
     "output_type": "execute_result"
    }
   ],
   "source": [
    "emp.__dict__"
   ]
  },
  {
   "cell_type": "code",
   "execution_count": 14,
   "metadata": {},
   "outputs": [
    {
     "name": "stdout",
     "output_type": "stream",
     "text": [
      "Name of Employee is: Amit\n",
      "Name of Employee is: 23\n",
      "Name of Employee is: 1332132\n"
     ]
    }
   ],
   "source": [
    "emp.ShowDetails()"
   ]
  },
  {
   "cell_type": "code",
   "execution_count": 15,
   "metadata": {
    "collapsed": true
   },
   "outputs": [],
   "source": [
    "class Employee:\n",
    "    \n",
    "    def __init__(self, name = \"\", age = 0, salary = 0):\n",
    "        print(\"Constructor Called and Variables got init.\")\n",
    "        self.name = name\n",
    "        self.age = age\n",
    "        self.sal = salary\n",
    "        \n",
    "    def ShowDetails(self):\n",
    "        print(\"Name of Employee is: {}\".format(self.name))\n",
    "        print(\"Name of Employee is: {}\".format(self.age))\n",
    "        print(\"Name of Employee is: {}\".format(self.sal))\n",
    "        "
   ]
  },
  {
   "cell_type": "code",
   "execution_count": 16,
   "metadata": {},
   "outputs": [
    {
     "name": "stdout",
     "output_type": "stream",
     "text": [
      "Constructor Called and Variables got init.\n"
     ]
    }
   ],
   "source": [
    "emp = Employee()"
   ]
  },
  {
   "cell_type": "code",
   "execution_count": 17,
   "metadata": {},
   "outputs": [
    {
     "name": "stdout",
     "output_type": "stream",
     "text": [
      "Name of Employee is: \n",
      "Name of Employee is: 0\n",
      "Name of Employee is: 0\n"
     ]
    }
   ],
   "source": [
    "emp.ShowDetails()"
   ]
  },
  {
   "cell_type": "code",
   "execution_count": 18,
   "metadata": {
    "collapsed": true
   },
   "outputs": [],
   "source": [
    "#Stack and Queue"
   ]
  },
  {
   "cell_type": "code",
   "execution_count": 19,
   "metadata": {
    "collapsed": true
   },
   "outputs": [],
   "source": [
    "li = []"
   ]
  },
  {
   "cell_type": "code",
   "execution_count": 37,
   "metadata": {
    "collapsed": true
   },
   "outputs": [],
   "source": [
    "from collections import Iterable"
   ]
  },
  {
   "cell_type": "code",
   "execution_count": 38,
   "metadata": {
    "collapsed": true
   },
   "outputs": [],
   "source": [
    " class stack:\n",
    "        def __init__(self):\n",
    "            self.items = []\n",
    "            \n",
    "        def push(self, item):\n",
    "            self.items.append(item)\n",
    "            \n",
    "        def pop(self):\n",
    "            return self.items.pop()\n",
    "        \n",
    "        def peek(self):\n",
    "            return self.items[-1]\n",
    "        \n",
    "        def size(self):\n",
    "            return len(self.items)\n",
    "        \n",
    "        def Extend(self, iterable):\n",
    "            if isinstance(iterable, Iterable):\n",
    "                self.items.extend(iterable)\n",
    "                \n",
    "            else:\n",
    "                print(\"Object is not iterable object !!!\")"
   ]
  },
  {
   "cell_type": "code",
   "execution_count": null,
   "metadata": {
    "collapsed": true
   },
   "outputs": [],
   "source": []
  },
  {
   "cell_type": "code",
   "execution_count": 39,
   "metadata": {
    "collapsed": true
   },
   "outputs": [],
   "source": [
    "st = stack()"
   ]
  },
  {
   "cell_type": "code",
   "execution_count": 40,
   "metadata": {},
   "outputs": [
    {
     "data": {
      "text/plain": [
       "[]"
      ]
     },
     "execution_count": 40,
     "metadata": {},
     "output_type": "execute_result"
    }
   ],
   "source": [
    "st.items"
   ]
  },
  {
   "cell_type": "code",
   "execution_count": 41,
   "metadata": {
    "collapsed": true
   },
   "outputs": [],
   "source": [
    "st.push(1)\n",
    "st.push(2)"
   ]
  },
  {
   "cell_type": "code",
   "execution_count": 42,
   "metadata": {},
   "outputs": [
    {
     "name": "stdout",
     "output_type": "stream",
     "text": [
      "Object is not iterable object !!!\n"
     ]
    }
   ],
   "source": [
    "st.Extend(87758)"
   ]
  },
  {
   "cell_type": "code",
   "execution_count": 34,
   "metadata": {},
   "outputs": [
    {
     "data": {
      "text/plain": [
       "5"
      ]
     },
     "execution_count": 34,
     "metadata": {},
     "output_type": "execute_result"
    }
   ],
   "source": [
    "st.size()"
   ]
  },
  {
   "cell_type": "code",
   "execution_count": 35,
   "metadata": {},
   "outputs": [
    {
     "data": {
      "text/plain": [
       "'y'"
      ]
     },
     "execution_count": 35,
     "metadata": {},
     "output_type": "execute_result"
    }
   ],
   "source": [
    "st.peek()"
   ]
  },
  {
   "cell_type": "code",
   "execution_count": 26,
   "metadata": {},
   "outputs": [
    {
     "data": {
      "text/plain": [
       "2"
      ]
     },
     "execution_count": 26,
     "metadata": {},
     "output_type": "execute_result"
    }
   ],
   "source": [
    "st.pop()"
   ]
  },
  {
   "cell_type": "code",
   "execution_count": 27,
   "metadata": {},
   "outputs": [
    {
     "data": {
      "text/plain": [
       "1"
      ]
     },
     "execution_count": 27,
     "metadata": {},
     "output_type": "execute_result"
    }
   ],
   "source": [
    "st.size()"
   ]
  },
  {
   "cell_type": "code",
   "execution_count": 36,
   "metadata": {},
   "outputs": [
    {
     "data": {
      "text/plain": [
       "[1, 2, 'h', 'e', 'y']"
      ]
     },
     "execution_count": 36,
     "metadata": {},
     "output_type": "execute_result"
    }
   ],
   "source": [
    "st.items"
   ]
  },
  {
   "cell_type": "code",
   "execution_count": 43,
   "metadata": {
    "collapsed": true
   },
   "outputs": [],
   "source": [
    "############################# more on objects ###################"
   ]
  },
  {
   "cell_type": "code",
   "execution_count": 44,
   "metadata": {
    "collapsed": true
   },
   "outputs": [],
   "source": [
    "class Check:\n",
    "    pass"
   ]
  },
  {
   "cell_type": "code",
   "execution_count": 45,
   "metadata": {
    "collapsed": true
   },
   "outputs": [],
   "source": [
    "ch = Check()"
   ]
  },
  {
   "cell_type": "code",
   "execution_count": 46,
   "metadata": {},
   "outputs": [
    {
     "data": {
      "text/plain": [
       "{}"
      ]
     },
     "execution_count": 46,
     "metadata": {},
     "output_type": "execute_result"
    }
   ],
   "source": [
    "ch.__dict__"
   ]
  },
  {
   "cell_type": "code",
   "execution_count": 47,
   "metadata": {
    "collapsed": true
   },
   "outputs": [],
   "source": [
    "ch1 = Check()"
   ]
  },
  {
   "cell_type": "code",
   "execution_count": 48,
   "metadata": {},
   "outputs": [
    {
     "data": {
      "text/plain": [
       "{}"
      ]
     },
     "execution_count": 48,
     "metadata": {},
     "output_type": "execute_result"
    }
   ],
   "source": [
    "ch1.__dict__"
   ]
  },
  {
   "cell_type": "code",
   "execution_count": 49,
   "metadata": {},
   "outputs": [
    {
     "data": {
      "text/plain": [
       "<__main__.Check at 0x6423cee908>"
      ]
     },
     "execution_count": 49,
     "metadata": {},
     "output_type": "execute_result"
    }
   ],
   "source": [
    "ch"
   ]
  },
  {
   "cell_type": "code",
   "execution_count": 50,
   "metadata": {},
   "outputs": [
    {
     "data": {
      "text/plain": [
       "<__main__.Check at 0x6423cfb898>"
      ]
     },
     "execution_count": 50,
     "metadata": {},
     "output_type": "execute_result"
    }
   ],
   "source": [
    "ch1"
   ]
  },
  {
   "cell_type": "code",
   "execution_count": 51,
   "metadata": {
    "collapsed": true
   },
   "outputs": [],
   "source": [
    "ch.var1 = 12"
   ]
  },
  {
   "cell_type": "code",
   "execution_count": 52,
   "metadata": {},
   "outputs": [
    {
     "data": {
      "text/plain": [
       "{'var1': 12}"
      ]
     },
     "execution_count": 52,
     "metadata": {},
     "output_type": "execute_result"
    }
   ],
   "source": [
    "ch.__dict__"
   ]
  },
  {
   "cell_type": "code",
   "execution_count": 53,
   "metadata": {},
   "outputs": [
    {
     "data": {
      "text/plain": [
       "{}"
      ]
     },
     "execution_count": 53,
     "metadata": {},
     "output_type": "execute_result"
    }
   ],
   "source": [
    "ch1.__dict__"
   ]
  },
  {
   "cell_type": "code",
   "execution_count": 55,
   "metadata": {
    "collapsed": true
   },
   "outputs": [],
   "source": [
    "############################ INheritance ################################"
   ]
  },
  {
   "cell_type": "code",
   "execution_count": 56,
   "metadata": {
    "collapsed": true
   },
   "outputs": [],
   "source": [
    "class Father:\n",
    "    def Basketball(self):\n",
    "        print(\"Father Plays bsket ball very well !!!\")\n",
    "        \n",
    "class Mother:\n",
    "    def Cooking(self):\n",
    "        print(\"Mother Cooks very well !!!\")\n",
    "        \n",
    "class Child(Father):\n",
    "    pass"
   ]
  },
  {
   "cell_type": "code",
   "execution_count": 57,
   "metadata": {
    "collapsed": true
   },
   "outputs": [],
   "source": [
    "child = Child()"
   ]
  },
  {
   "cell_type": "code",
   "execution_count": 58,
   "metadata": {},
   "outputs": [
    {
     "name": "stdout",
     "output_type": "stream",
     "text": [
      "Father Plays bsket ball very well !!!\n"
     ]
    }
   ],
   "source": [
    "child.Basketball()"
   ]
  },
  {
   "cell_type": "code",
   "execution_count": 59,
   "metadata": {
    "collapsed": true
   },
   "outputs": [],
   "source": [
    "class Father:\n",
    "    def Basketball(self):\n",
    "        print(\"Father Plays bsket ball very well !!!\")\n",
    "        \n",
    "class Mother:\n",
    "    def Cooking(self):\n",
    "        print(\"Mother Cooks very well !!!\")\n",
    "        \n",
    "class Child(Father):\n",
    "    def Basketball(self):\n",
    "        print(\"Child plays better !!!\")"
   ]
  },
  {
   "cell_type": "code",
   "execution_count": 60,
   "metadata": {
    "collapsed": true
   },
   "outputs": [],
   "source": [
    "ch = Child()"
   ]
  },
  {
   "cell_type": "code",
   "execution_count": 61,
   "metadata": {},
   "outputs": [
    {
     "name": "stdout",
     "output_type": "stream",
     "text": [
      "Child plays better !!!\n"
     ]
    }
   ],
   "source": [
    "ch.Basketball()"
   ]
  },
  {
   "cell_type": "code",
   "execution_count": 62,
   "metadata": {
    "collapsed": true
   },
   "outputs": [],
   "source": [
    "class Father:\n",
    "    def Basketball(self):\n",
    "        print(\"Father Plays bsket ball very well !!!\")\n",
    "        \n",
    "class Mother:\n",
    "    def Cooking(self):\n",
    "        print(\"Mother Cooks very well !!!\")\n",
    "        \n",
    "class Child(Father):\n",
    "    def Basketball(self):\n",
    "        super().Basketball()\n",
    "        print(\"Child plays better !!!\")"
   ]
  },
  {
   "cell_type": "code",
   "execution_count": 63,
   "metadata": {
    "collapsed": true
   },
   "outputs": [],
   "source": [
    "ch =  Child()"
   ]
  },
  {
   "cell_type": "code",
   "execution_count": 64,
   "metadata": {},
   "outputs": [
    {
     "name": "stdout",
     "output_type": "stream",
     "text": [
      "Father Plays bsket ball very well !!!\n",
      "Child plays better !!!\n"
     ]
    }
   ],
   "source": [
    "ch.Basketball()"
   ]
  },
  {
   "cell_type": "code",
   "execution_count": 65,
   "metadata": {
    "collapsed": true
   },
   "outputs": [],
   "source": [
    "class Father:\n",
    "    def __init__(self):\n",
    "        print(\"Father class constructor called !!!\")\n",
    "    \n",
    "    def Basketball(self):\n",
    "        print(\"Father Plays bsket ball very well !!!\")\n",
    "        \n",
    "class Mother:\n",
    "    def Cooking(self):\n",
    "        print(\"Mother Cooks very well !!!\")\n",
    "        \n",
    "class Child(Father):\n",
    "    def Basketball(self):\n",
    "        super().Basketball()\n",
    "        print(\"Child plays better !!!\")"
   ]
  },
  {
   "cell_type": "code",
   "execution_count": 66,
   "metadata": {},
   "outputs": [
    {
     "name": "stdout",
     "output_type": "stream",
     "text": [
      "Father class constructor called !!!\n"
     ]
    }
   ],
   "source": [
    "ch = Child()"
   ]
  },
  {
   "cell_type": "code",
   "execution_count": 67,
   "metadata": {
    "collapsed": true
   },
   "outputs": [],
   "source": [
    "class Father:\n",
    "    def __init__(self):\n",
    "        print(\"Father class constructor called !!!\")\n",
    "    \n",
    "    def Basketball(self):\n",
    "        print(\"Father Plays bsket ball very well !!!\")\n",
    "        \n",
    "class Mother:\n",
    "    def __init__(self):\n",
    "        print(\"Mother class constructor called !!!\")\n",
    "    \n",
    "    def Cooking(self):\n",
    "        print(\"Mother Cooks very well !!!\")\n",
    "        \n",
    "class Child(Father, Mother):\n",
    "    def Basketball(self):\n",
    "        super().Basketball()\n",
    "        print(\"Child plays better !!!\")"
   ]
  },
  {
   "cell_type": "code",
   "execution_count": 68,
   "metadata": {},
   "outputs": [
    {
     "name": "stdout",
     "output_type": "stream",
     "text": [
      "Father class constructor called !!!\n"
     ]
    }
   ],
   "source": [
    "ch= Child()"
   ]
  },
  {
   "cell_type": "code",
   "execution_count": 69,
   "metadata": {
    "collapsed": true
   },
   "outputs": [],
   "source": [
    "class Father:\n",
    "    def __init__(self):\n",
    "        print(\"Father class constructor called !!!\")\n",
    "    \n",
    "    def Basketball(self):\n",
    "        print(\"Father Plays bsket ball very well !!!\")\n",
    "        \n",
    "class Mother:\n",
    "    def __init__(self):\n",
    "        print(\"Mother class constructor called !!!\")\n",
    "    \n",
    "    def Cooking(self):\n",
    "        print(\"Mother Cooks very well !!!\")\n",
    "        \n",
    "class Child(Mother,Father):\n",
    "    def Basketball(self):\n",
    "        super().Basketball()\n",
    "        print(\"Child plays better !!!\")"
   ]
  },
  {
   "cell_type": "code",
   "execution_count": 70,
   "metadata": {},
   "outputs": [
    {
     "name": "stdout",
     "output_type": "stream",
     "text": [
      "Mother class constructor called !!!\n"
     ]
    }
   ],
   "source": [
    "ch = Child()"
   ]
  },
  {
   "cell_type": "code",
   "execution_count": 77,
   "metadata": {
    "collapsed": true
   },
   "outputs": [],
   "source": [
    "class Father:\n",
    "    def __init__(self):\n",
    "        print(\"Father class constructor called !!!\")\n",
    "    \n",
    "    def Basketball(self):\n",
    "        print(\"Father Plays bsket ball very well !!!\")\n",
    "        \n",
    "class Mother:\n",
    "    def __init__(self):\n",
    "        print(\"Mother class constructor called !!!\")\n",
    "    \n",
    "    def Cooking(self):\n",
    "        print(\"Mother Cooks very well !!!\")\n",
    "        \n",
    "class Child(Mother,Father):\n",
    "    def __init__(self):\n",
    "        super().__init__()\n",
    "        Father.__init__(self)\n",
    "        print(\"Child class constructor called !!!\")\n",
    "        \n",
    "    def Basketball(self):\n",
    "        super().Basketball()\n",
    "        print(\"Child plays better !!!\")"
   ]
  },
  {
   "cell_type": "code",
   "execution_count": 78,
   "metadata": {},
   "outputs": [
    {
     "name": "stdout",
     "output_type": "stream",
     "text": [
      "Mother class constructor called !!!\n",
      "Father class constructor called !!!\n",
      "Child class constructor called !!!\n"
     ]
    }
   ],
   "source": [
    "ch = Child()"
   ]
  },
  {
   "cell_type": "code",
   "execution_count": 86,
   "metadata": {
    "collapsed": true
   },
   "outputs": [],
   "source": [
    "class abc:\n",
    "    \n",
    "    def message():\n",
    "        print(\"Hey i am inside class and does not have any self word.\")\n",
    "        \n",
    "    @classmethod\n",
    "    def check(cls):\n",
    "        print(cls)\n",
    "        cls.message()\n",
    "        \n",
    "    @staticmethod\n",
    "    def convert_upper(string):\n",
    "        return string.upper()"
   ]
  },
  {
   "cell_type": "code",
   "execution_count": 87,
   "metadata": {
    "collapsed": true
   },
   "outputs": [],
   "source": [
    "a = abc()"
   ]
  },
  {
   "cell_type": "code",
   "execution_count": 88,
   "metadata": {},
   "outputs": [
    {
     "name": "stdout",
     "output_type": "stream",
     "text": [
      "<class '__main__.abc'>\n",
      "Hey i am inside class and does not have any self word.\n"
     ]
    }
   ],
   "source": [
    "a.check()"
   ]
  },
  {
   "cell_type": "code",
   "execution_count": 89,
   "metadata": {},
   "outputs": [
    {
     "data": {
      "text/plain": [
       "'HELLO'"
      ]
     },
     "execution_count": 89,
     "metadata": {},
     "output_type": "execute_result"
    }
   ],
   "source": [
    "a.convert_upper(\"hello\")"
   ]
  },
  {
   "cell_type": "code",
   "execution_count": 91,
   "metadata": {},
   "outputs": [
    {
     "name": "stdout",
     "output_type": "stream",
     "text": [
      "<class '__main__.Person'>\n",
      "21\n",
      "24\n",
      "True\n"
     ]
    }
   ],
   "source": [
    "from datetime import date\n",
    " \n",
    "class Person:\n",
    "    def __init__(self, name, age):\n",
    "        self.name = name\n",
    "        self.age = age\n",
    "     \n",
    "    # a class method to create a Person object by birth year.\n",
    "    @classmethod\n",
    "    def fromBirthYear(cls,name,year):\n",
    "        print(cls)\n",
    "        return cls(name, date.today().year - year)\n",
    "     \n",
    "    # a static method to check if a Person is adult or not.\n",
    "    @staticmethod\n",
    "    def isAdult(age):\n",
    "        return age > 18\n",
    "\n",
    "person1 = Person('Rahul', 21)\n",
    "person2 = Person.fromBirthYear(\"amit\",1995)\n",
    " \n",
    "print (person1.age)\n",
    "print (person2.age)\n",
    " \n",
    "# print the result\n",
    "print (Person.isAdult(person2.age))"
   ]
  },
  {
   "cell_type": "code",
   "execution_count": null,
   "metadata": {
    "collapsed": true
   },
   "outputs": [],
   "source": []
  }
 ],
 "metadata": {
  "kernelspec": {
   "display_name": "Python 3",
   "language": "python",
   "name": "python3"
  },
  "language_info": {
   "codemirror_mode": {
    "name": "ipython",
    "version": 3
   },
   "file_extension": ".py",
   "mimetype": "text/x-python",
   "name": "python",
   "nbconvert_exporter": "python",
   "pygments_lexer": "ipython3",
   "version": "3.6.3"
  }
 },
 "nbformat": 4,
 "nbformat_minor": 2
}
