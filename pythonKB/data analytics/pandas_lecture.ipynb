{
 "cells": [
  {
   "cell_type": "code",
   "execution_count": 3,
   "metadata": {
    "collapsed": true
   },
   "outputs": [],
   "source": [
    "import pandas as pd"
   ]
  },
  {
   "cell_type": "code",
   "execution_count": 44,
   "metadata": {
    "collapsed": true
   },
   "outputs": [],
   "source": [
    "store = pd.read_csv(\"store.csv\")"
   ]
  },
  {
   "cell_type": "code",
   "execution_count": 6,
   "metadata": {},
   "outputs": [],
   "source": [
    "# store"
   ]
  },
  {
   "cell_type": "code",
   "execution_count": 10,
   "metadata": {},
   "outputs": [],
   "source": [
    "dummy = store.head()"
   ]
  },
  {
   "cell_type": "code",
   "execution_count": 12,
   "metadata": {},
   "outputs": [],
   "source": [
    "# dummy.head(1)"
   ]
  },
  {
   "cell_type": "code",
   "execution_count": 13,
   "metadata": {},
   "outputs": [
    {
     "data": {
      "text/plain": [
       "Index(['Unnamed: 0', 'ID', 'Customer ID', 'Region', 'Store', 'Date', 'Week',\n",
       "       'Phone Type', 'Phone Model', 'Agreement', 'Tenure', 'Credit Category',\n",
       "       'Down payment', 'Per Month for phone', 'Plan For', 'Type', 'Plan Name',\n",
       "       'Line', 'per month for plan ', 'Price'],\n",
       "      dtype='object')"
      ]
     },
     "execution_count": 13,
     "metadata": {},
     "output_type": "execute_result"
    }
   ],
   "source": [
    "store.columns"
   ]
  },
  {
   "cell_type": "code",
   "execution_count": 14,
   "metadata": {},
   "outputs": [
    {
     "data": {
      "text/plain": [
       "0               iPhone 6S\n",
       "1                HTC Bolt\n",
       "2                   LG G6\n",
       "3              LG Stylo 3\n",
       "4             Samsung S8+\n",
       "5              LG Stylo 3\n",
       "6             Samsung S8+\n",
       "7                iPhone 7\n",
       "8              LG Stylo 3\n",
       "9              Samsung S8\n",
       "10              iPhone 6S\n",
       "11            Samsung S8+\n",
       "12               iPhone 7\n",
       "13                  LG G6\n",
       "14            Samsung S8+\n",
       "15          iPhone 7 Plus\n",
       "16               iPhone 7\n",
       "17          iPhone 7 Plus\n",
       "18             Samsung S8\n",
       "19                  LG G6\n",
       "20            Samsung S8+\n",
       "21               iPhone 7\n",
       "22                 HTC 10\n",
       "23        Samsung J7 Perx\n",
       "24      Samsung J3 Emerge\n",
       "25               iPhone 7\n",
       "26               iPhone 7\n",
       "27                 HTC 10\n",
       "28             LG Stylo 3\n",
       "29        Samsung J7 Perx\n",
       "              ...        \n",
       "9970      Samsung J7 Perx\n",
       "9971       iPhone 6S Plus\n",
       "9972             iPhone 7\n",
       "9973      Samsung J7 Perx\n",
       "9974    Samsung J3 Emerge\n",
       "9975          Samsung S8+\n",
       "9976       iPhone 6S Plus\n",
       "9977    Samsung J3 Emerge\n",
       "9978      Samsung J7 Perx\n",
       "9979          Samsung S8+\n",
       "9980      Samsung J7 Perx\n",
       "9981          Samsung S8+\n",
       "9982             HTC Bolt\n",
       "9983          Samsung S8+\n",
       "9984            iPhone 6S\n",
       "9985               HTC 10\n",
       "9986           Samsung S8\n",
       "9987       iPhone 6S Plus\n",
       "9988        iPhone 7 Plus\n",
       "9989            iPhone 6S\n",
       "9990             HTC Bolt\n",
       "9991          Samsung S8+\n",
       "9992    Samsung J3 Emerge\n",
       "9993               HTC 10\n",
       "9994           LG Stylo 3\n",
       "9995             HTC Bolt\n",
       "9996       iPhone 6S Plus\n",
       "9997             iPhone 7\n",
       "9998       iPhone 6S Plus\n",
       "9999           Samsung S8\n",
       "Name: Phone Model, Length: 10000, dtype: object"
      ]
     },
     "execution_count": 14,
     "metadata": {},
     "output_type": "execute_result"
    }
   ],
   "source": [
    "store[\"Phone Model\"]"
   ]
  },
  {
   "cell_type": "code",
   "execution_count": 15,
   "metadata": {},
   "outputs": [
    {
     "data": {
      "text/plain": [
       "pandas.core.series.Series"
      ]
     },
     "execution_count": 15,
     "metadata": {},
     "output_type": "execute_result"
    }
   ],
   "source": [
    "type(store[\"Phone Model\"])"
   ]
  },
  {
   "cell_type": "code",
   "execution_count": 16,
   "metadata": {},
   "outputs": [
    {
     "data": {
      "text/plain": [
       "array(['iPhone 6S', 'HTC Bolt', 'LG G6', 'LG Stylo 3', 'Samsung S8+',\n",
       "       'iPhone 7', 'Samsung S8', 'iPhone 7 Plus', 'HTC 10',\n",
       "       'Samsung J7 Perx', 'Samsung J3 Emerge', 'iPhone 6S Plus'],\n",
       "      dtype=object)"
      ]
     },
     "execution_count": 16,
     "metadata": {},
     "output_type": "execute_result"
    }
   ],
   "source": [
    "store[\"Phone Model\"].unique()"
   ]
  },
  {
   "cell_type": "code",
   "execution_count": 17,
   "metadata": {},
   "outputs": [
    {
     "data": {
      "text/plain": [
       "12"
      ]
     },
     "execution_count": 17,
     "metadata": {},
     "output_type": "execute_result"
    }
   ],
   "source": [
    "store[\"Phone Model\"].nunique()"
   ]
  },
  {
   "cell_type": "code",
   "execution_count": 18,
   "metadata": {},
   "outputs": [
    {
     "data": {
      "text/plain": [
       "Samsung S8+          1300\n",
       "iPhone 7 Plus        1274\n",
       "iPhone 7             1248\n",
       "Samsung S8           1217\n",
       "LG Stylo 3            674\n",
       "iPhone 6S Plus        630\n",
       "Samsung J7 Perx       629\n",
       "iPhone 6S             622\n",
       "HTC 10                622\n",
       "HTC Bolt              605\n",
       "LG G6                 593\n",
       "Samsung J3 Emerge     586\n",
       "Name: Phone Model, dtype: int64"
      ]
     },
     "execution_count": 18,
     "metadata": {},
     "output_type": "execute_result"
    }
   ],
   "source": [
    "store[\"Phone Model\"].value_counts()"
   ]
  },
  {
   "cell_type": "code",
   "execution_count": 20,
   "metadata": {},
   "outputs": [
    {
     "name": "stdout",
     "output_type": "stream",
     "text": [
      "<class 'pandas.core.frame.DataFrame'>\n",
      "RangeIndex: 10000 entries, 0 to 9999\n",
      "Data columns (total 20 columns):\n",
      "Unnamed: 0             10000 non-null int64\n",
      "ID                     10000 non-null int64\n",
      "Customer ID            10000 non-null object\n",
      "Region                 10000 non-null object\n",
      "Store                  10000 non-null object\n",
      "Date                   10000 non-null object\n",
      "Week                   10000 non-null int64\n",
      "Phone Type             10000 non-null object\n",
      "Phone Model            10000 non-null object\n",
      "Agreement              10000 non-null object\n",
      "Tenure                 10000 non-null int64\n",
      "Credit Category        10000 non-null object\n",
      "Down payment           10000 non-null int64\n",
      "Per Month for phone    10000 non-null float64\n",
      "Plan For               10000 non-null object\n",
      "Type                   10000 non-null object\n",
      "Plan Name              10000 non-null object\n",
      "Line                   10000 non-null int64\n",
      "per month for plan     10000 non-null int64\n",
      "Price                  10000 non-null float64\n",
      "dtypes: float64(2), int64(7), object(11)\n",
      "memory usage: 1.5+ MB\n"
     ]
    }
   ],
   "source": [
    "store.info()"
   ]
  },
  {
   "cell_type": "code",
   "execution_count": 22,
   "metadata": {},
   "outputs": [
    {
     "data": {
      "text/plain": [
       "Index(['Unnamed: 0', 'ID', 'Customer ID', 'Region', 'Store', 'Date', 'Week',\n",
       "       'Phone Type', 'Phone Model', 'Agreement', 'Tenure', 'Credit Category',\n",
       "       'Down payment', 'Per Month for phone', 'Plan For', 'Type', 'Plan Name',\n",
       "       'Line', 'per month for plan ', 'Price'],\n",
       "      dtype='object')"
      ]
     },
     "execution_count": 22,
     "metadata": {},
     "output_type": "execute_result"
    }
   ],
   "source": [
    "store.columns"
   ]
  },
  {
   "cell_type": "code",
   "execution_count": 24,
   "metadata": {},
   "outputs": [
    {
     "data": {
      "text/plain": [
       "count    10000.000000\n",
       "mean        93.427091\n",
       "std         90.464360\n",
       "min          7.000000\n",
       "25%         27.090000\n",
       "50%         34.960000\n",
       "75%        170.800000\n",
       "max        275.000000\n",
       "Name: Price, dtype: float64"
      ]
     },
     "execution_count": 24,
     "metadata": {},
     "output_type": "execute_result"
    }
   ],
   "source": [
    "store.Price.describe()"
   ]
  },
  {
   "cell_type": "code",
   "execution_count": 25,
   "metadata": {},
   "outputs": [
    {
     "data": {
      "text/plain": [
       "count           10000\n",
       "unique             12\n",
       "top       Samsung S8+\n",
       "freq             1300\n",
       "Name: Phone Model, dtype: object"
      ]
     },
     "execution_count": 25,
     "metadata": {},
     "output_type": "execute_result"
    }
   ],
   "source": [
    "store[\"Phone Model\"].describe()"
   ]
  },
  {
   "cell_type": "code",
   "execution_count": 26,
   "metadata": {},
   "outputs": [
    {
     "data": {
      "text/plain": [
       "Index(['Unnamed: 0', 'ID', 'Customer ID', 'Region', 'Store', 'Date', 'Week',\n",
       "       'Phone Type', 'Phone Model', 'Agreement', 'Tenure', 'Credit Category',\n",
       "       'Down payment', 'Per Month for phone', 'Plan For', 'Type', 'Plan Name',\n",
       "       'Line', 'per month for plan ', 'Price'],\n",
       "      dtype='object')"
      ]
     },
     "execution_count": 26,
     "metadata": {},
     "output_type": "execute_result"
    }
   ],
   "source": [
    "store.columns"
   ]
  },
  {
   "cell_type": "code",
   "execution_count": 27,
   "metadata": {},
   "outputs": [
    {
     "data": {
      "text/plain": [
       "0    North East\n",
       "1          West\n",
       "2         South\n",
       "3          West\n",
       "4    North East\n",
       "Name: Region, dtype: object"
      ]
     },
     "execution_count": 27,
     "metadata": {},
     "output_type": "execute_result"
    }
   ],
   "source": [
    "store.Region[:5]"
   ]
  },
  {
   "cell_type": "code",
   "execution_count": 33,
   "metadata": {},
   "outputs": [],
   "source": [
    "# store[store[\"Region\"] == \"North East\"][[\"Price\",\"Region\"]]"
   ]
  },
  {
   "cell_type": "code",
   "execution_count": 34,
   "metadata": {},
   "outputs": [
    {
     "data": {
      "text/plain": [
       "Index(['Unnamed: 0', 'ID', 'Customer ID', 'Region', 'Store', 'Date', 'Week',\n",
       "       'Phone Type', 'Phone Model', 'Agreement', 'Tenure', 'Credit Category',\n",
       "       'Down payment', 'Per Month for phone', 'Plan For', 'Type', 'Plan Name',\n",
       "       'Line', 'per month for plan ', 'Price'],\n",
       "      dtype='object')"
      ]
     },
     "execution_count": 34,
     "metadata": {},
     "output_type": "execute_result"
    }
   ],
   "source": [
    "store.columns"
   ]
  },
  {
   "cell_type": "code",
   "execution_count": 36,
   "metadata": {},
   "outputs": [],
   "source": [
    "# store.head().T"
   ]
  },
  {
   "cell_type": "code",
   "execution_count": 42,
   "metadata": {},
   "outputs": [],
   "source": [
    "store.drop(\"Unnamed: 0\", axis = 1, inplace=True)"
   ]
  },
  {
   "cell_type": "code",
   "execution_count": 45,
   "metadata": {},
   "outputs": [
    {
     "data": {
      "text/plain": [
       "Index(['Unnamed: 0', 'ID', 'Customer ID', 'Region', 'Store', 'Date', 'Week',\n",
       "       'Phone Type', 'Phone Model', 'Agreement', 'Tenure', 'Credit Category',\n",
       "       'Down payment', 'Per Month for phone', 'Plan For', 'Type', 'Plan Name',\n",
       "       'Line', 'per month for plan ', 'Price'],\n",
       "      dtype='object')"
      ]
     },
     "execution_count": 45,
     "metadata": {},
     "output_type": "execute_result"
    }
   ],
   "source": [
    "store.columns"
   ]
  },
  {
   "cell_type": "code",
   "execution_count": 47,
   "metadata": {},
   "outputs": [],
   "source": [
    "a = store.drop(\"Unnamed: 0\", axis = 1)"
   ]
  },
  {
   "cell_type": "code",
   "execution_count": 49,
   "metadata": {},
   "outputs": [],
   "source": [
    "# a"
   ]
  },
  {
   "cell_type": "code",
   "execution_count": 50,
   "metadata": {},
   "outputs": [
    {
     "data": {
      "text/plain": [
       "Index(['Unnamed: 0', 'ID', 'Customer ID', 'Region', 'Store', 'Date', 'Week',\n",
       "       'Phone Type', 'Phone Model', 'Agreement', 'Tenure', 'Credit Category',\n",
       "       'Down payment', 'Per Month for phone', 'Plan For', 'Type', 'Plan Name',\n",
       "       'Line', 'per month for plan ', 'Price'],\n",
       "      dtype='object')"
      ]
     },
     "execution_count": 50,
     "metadata": {},
     "output_type": "execute_result"
    }
   ],
   "source": [
    "store.columns"
   ]
  },
  {
   "cell_type": "code",
   "execution_count": 52,
   "metadata": {},
   "outputs": [],
   "source": [
    "# store.head(2)"
   ]
  },
  {
   "cell_type": "code",
   "execution_count": 53,
   "metadata": {},
   "outputs": [
    {
     "data": {
      "text/plain": [
       "Android    6226\n",
       "Apple      3774\n",
       "Name: Phone Type, dtype: int64"
      ]
     },
     "execution_count": 53,
     "metadata": {},
     "output_type": "execute_result"
    }
   ],
   "source": [
    "store[\"Phone Type\"].value_counts()"
   ]
  },
  {
   "cell_type": "code",
   "execution_count": 54,
   "metadata": {},
   "outputs": [
    {
     "data": {
      "text/plain": [
       "275.0"
      ]
     },
     "execution_count": 54,
     "metadata": {},
     "output_type": "execute_result"
    }
   ],
   "source": [
    "store.Price.max()"
   ]
  },
  {
   "cell_type": "code",
   "execution_count": 55,
   "metadata": {},
   "outputs": [
    {
     "data": {
      "text/plain": [
       "7.0"
      ]
     },
     "execution_count": 55,
     "metadata": {},
     "output_type": "execute_result"
    }
   ],
   "source": [
    "store.Price.min()"
   ]
  },
  {
   "cell_type": "code",
   "execution_count": 57,
   "metadata": {},
   "outputs": [
    {
     "data": {
      "text/plain": [
       "6552"
      ]
     },
     "execution_count": 57,
     "metadata": {},
     "output_type": "execute_result"
    }
   ],
   "source": [
    "store[store[\"Price\"] <= 100].shape[0]"
   ]
  },
  {
   "cell_type": "code",
   "execution_count": 58,
   "metadata": {
    "collapsed": true
   },
   "outputs": [],
   "source": [
    "import numpy as np"
   ]
  },
  {
   "cell_type": "code",
   "execution_count": 59,
   "metadata": {
    "collapsed": true
   },
   "outputs": [],
   "source": [
    "store[\"tagging\"] = np.where(store[\"Price\"] <= 100, \"Low Price\", \"High Price\")"
   ]
  },
  {
   "cell_type": "code",
   "execution_count": 60,
   "metadata": {},
   "outputs": [
    {
     "data": {
      "text/plain": [
       "Low Price     6552\n",
       "High Price    3448\n",
       "Name: tagging, dtype: int64"
      ]
     },
     "execution_count": 60,
     "metadata": {},
     "output_type": "execute_result"
    }
   ],
   "source": [
    "store.tagging.value_counts()"
   ]
  },
  {
   "cell_type": "code",
   "execution_count": 61,
   "metadata": {
    "collapsed": true
   },
   "outputs": [],
   "source": [
    "# store[\"tagging\"] = np.where(store[\"Price\"] <= 80, \"Low Price\", np.where(\"\",\"\",))"
   ]
  },
  {
   "cell_type": "code",
   "execution_count": 63,
   "metadata": {},
   "outputs": [
    {
     "data": {
      "text/plain": [
       "Unnamed: 0             0\n",
       "ID                     0\n",
       "Customer ID            0\n",
       "Region                 0\n",
       "Store                  0\n",
       "Date                   0\n",
       "Week                   0\n",
       "Phone Type             0\n",
       "Phone Model            0\n",
       "Agreement              0\n",
       "Tenure                 0\n",
       "Credit Category        0\n",
       "Down payment           0\n",
       "Per Month for phone    0\n",
       "Plan For               0\n",
       "Type                   0\n",
       "Plan Name              0\n",
       "Line                   0\n",
       "per month for plan     0\n",
       "Price                  0\n",
       "tagging                0\n",
       "dtype: int64"
      ]
     },
     "execution_count": 63,
     "metadata": {},
     "output_type": "execute_result"
    }
   ],
   "source": [
    "store.isnull().sum()"
   ]
  },
  {
   "cell_type": "code",
   "execution_count": 65,
   "metadata": {},
   "outputs": [],
   "source": [
    "# store[store[\"Phone Type\"]== \"Apple\"]"
   ]
  },
  {
   "cell_type": "code",
   "execution_count": 74,
   "metadata": {},
   "outputs": [
    {
     "data": {
      "text/plain": [
       "0    iPhone 6S\n",
       "1     HTC Bolt\n",
       "Name: Phone Model, dtype: object"
      ]
     },
     "execution_count": 74,
     "metadata": {},
     "output_type": "execute_result"
    }
   ],
   "source": [
    "store[\"Phone Model\"][:2]"
   ]
  },
  {
   "cell_type": "code",
   "execution_count": 76,
   "metadata": {},
   "outputs": [
    {
     "data": {
      "text/html": [
       "<div>\n",
       "<style>\n",
       "    .dataframe thead tr:only-child th {\n",
       "        text-align: right;\n",
       "    }\n",
       "\n",
       "    .dataframe thead th {\n",
       "        text-align: left;\n",
       "    }\n",
       "\n",
       "    .dataframe tbody tr th {\n",
       "        vertical-align: top;\n",
       "    }\n",
       "</style>\n",
       "<table border=\"1\" class=\"dataframe\">\n",
       "  <thead>\n",
       "    <tr style=\"text-align: right;\">\n",
       "      <th></th>\n",
       "      <th>Unnamed: 0</th>\n",
       "      <th>ID</th>\n",
       "      <th>Customer ID</th>\n",
       "      <th>Region</th>\n",
       "      <th>Store</th>\n",
       "      <th>Date</th>\n",
       "      <th>Week</th>\n",
       "      <th>Phone Type</th>\n",
       "      <th>Phone Model</th>\n",
       "      <th>Agreement</th>\n",
       "      <th>...</th>\n",
       "      <th>Credit Category</th>\n",
       "      <th>Down payment</th>\n",
       "      <th>Per Month for phone</th>\n",
       "      <th>Plan For</th>\n",
       "      <th>Type</th>\n",
       "      <th>Plan Name</th>\n",
       "      <th>Line</th>\n",
       "      <th>per month for plan</th>\n",
       "      <th>Price</th>\n",
       "      <th>tagging</th>\n",
       "    </tr>\n",
       "  </thead>\n",
       "  <tbody>\n",
       "    <tr>\n",
       "      <th>0</th>\n",
       "      <td>0</td>\n",
       "      <td>1</td>\n",
       "      <td>###</td>\n",
       "      <td>North East</td>\n",
       "      <td>Store 9</td>\n",
       "      <td>1/22/2017</td>\n",
       "      <td>4</td>\n",
       "      <td>Apple</td>\n",
       "      <td>iPhone 6S</td>\n",
       "      <td>Installment</td>\n",
       "      <td>...</td>\n",
       "      <td>Building Credit</td>\n",
       "      <td>75</td>\n",
       "      <td>18.96</td>\n",
       "      <td>Phone</td>\n",
       "      <td>Regular</td>\n",
       "      <td>Unlimited Freedom</td>\n",
       "      <td>2</td>\n",
       "      <td>80</td>\n",
       "      <td>93.96</td>\n",
       "      <td>Low Price</td>\n",
       "    </tr>\n",
       "    <tr>\n",
       "      <th>7</th>\n",
       "      <td>7</td>\n",
       "      <td>8</td>\n",
       "      <td>###</td>\n",
       "      <td>North East</td>\n",
       "      <td>Store 5</td>\n",
       "      <td>2/20/2017</td>\n",
       "      <td>8</td>\n",
       "      <td>Apple</td>\n",
       "      <td>iPhone 7</td>\n",
       "      <td>Installment</td>\n",
       "      <td>...</td>\n",
       "      <td>Good Credit</td>\n",
       "      <td>0</td>\n",
       "      <td>27.09</td>\n",
       "      <td>Phone</td>\n",
       "      <td>Promo</td>\n",
       "      <td>Unlimited Freedom</td>\n",
       "      <td>5</td>\n",
       "      <td>120</td>\n",
       "      <td>27.09</td>\n",
       "      <td>Low Price</td>\n",
       "    </tr>\n",
       "  </tbody>\n",
       "</table>\n",
       "<p>2 rows × 21 columns</p>\n",
       "</div>"
      ],
      "text/plain": [
       "   Unnamed: 0  ID Customer ID      Region    Store       Date  Week  \\\n",
       "0           0   1         ###  North East  Store 9  1/22/2017     4   \n",
       "7           7   8         ###  North East  Store 5  2/20/2017     8   \n",
       "\n",
       "  Phone Type Phone Model    Agreement    ...      Credit Category  \\\n",
       "0      Apple   iPhone 6S  Installment    ...      Building Credit   \n",
       "7      Apple    iPhone 7  Installment    ...          Good Credit   \n",
       "\n",
       "  Down payment  Per Month for phone  Plan For     Type          Plan Name  \\\n",
       "0           75                18.96     Phone  Regular  Unlimited Freedom   \n",
       "7            0                27.09     Phone    Promo  Unlimited Freedom   \n",
       "\n",
       "  Line  per month for plan   Price    tagging  \n",
       "0    2                   80  93.96  Low Price  \n",
       "7    5                  120  27.09  Low Price  \n",
       "\n",
       "[2 rows x 21 columns]"
      ]
     },
     "execution_count": 76,
     "metadata": {},
     "output_type": "execute_result"
    }
   ],
   "source": [
    "store[store[\"Phone Model\"].str.contains(\"iPhone\")].head(2)"
   ]
  },
  {
   "cell_type": "code",
   "execution_count": 81,
   "metadata": {
    "collapsed": true
   },
   "outputs": [],
   "source": [
    "a = store[store[\"Phone Model\"].str.contains(\"iPhone\")].\\\n",
    "sort_values(\"Price\", ascending=False).head(5)"
   ]
  },
  {
   "cell_type": "code",
   "execution_count": 82,
   "metadata": {},
   "outputs": [],
   "source": [
    "# a.sort_values(\"Price\", ascending=False).head(5).T"
   ]
  },
  {
   "cell_type": "code",
   "execution_count": 84,
   "metadata": {},
   "outputs": [
    {
     "data": {
      "text/html": [
       "<div>\n",
       "<style>\n",
       "    .dataframe thead tr:only-child th {\n",
       "        text-align: right;\n",
       "    }\n",
       "\n",
       "    .dataframe thead th {\n",
       "        text-align: left;\n",
       "    }\n",
       "\n",
       "    .dataframe tbody tr th {\n",
       "        vertical-align: top;\n",
       "    }\n",
       "</style>\n",
       "<table border=\"1\" class=\"dataframe\">\n",
       "  <thead>\n",
       "    <tr style=\"text-align: right;\">\n",
       "      <th></th>\n",
       "      <th>Unnamed: 0</th>\n",
       "      <th>ID</th>\n",
       "      <th>Customer ID</th>\n",
       "      <th>Region</th>\n",
       "      <th>Store</th>\n",
       "      <th>Date</th>\n",
       "      <th>Week</th>\n",
       "      <th>Phone Type</th>\n",
       "      <th>Phone Model</th>\n",
       "      <th>Agreement</th>\n",
       "      <th>...</th>\n",
       "      <th>Credit Category</th>\n",
       "      <th>Down payment</th>\n",
       "      <th>Per Month for phone</th>\n",
       "      <th>Plan For</th>\n",
       "      <th>Type</th>\n",
       "      <th>Plan Name</th>\n",
       "      <th>Line</th>\n",
       "      <th>per month for plan</th>\n",
       "      <th>Price</th>\n",
       "      <th>tagging</th>\n",
       "    </tr>\n",
       "  </thead>\n",
       "  <tbody>\n",
       "    <tr>\n",
       "      <th>5639</th>\n",
       "      <td>5639</td>\n",
       "      <td>5640</td>\n",
       "      <td>###</td>\n",
       "      <td>Midwest</td>\n",
       "      <td>Store 10</td>\n",
       "      <td>1/5/2017</td>\n",
       "      <td>1</td>\n",
       "      <td>Apple</td>\n",
       "      <td>iPhone 7 Plus</td>\n",
       "      <td>Installment</td>\n",
       "      <td>...</td>\n",
       "      <td>Building Credit</td>\n",
       "      <td>200</td>\n",
       "      <td>23.75</td>\n",
       "      <td>Phone</td>\n",
       "      <td>Regular</td>\n",
       "      <td>Unlimited Freedom</td>\n",
       "      <td>1</td>\n",
       "      <td>60</td>\n",
       "      <td>223.75</td>\n",
       "      <td>High Price</td>\n",
       "    </tr>\n",
       "    <tr>\n",
       "      <th>753</th>\n",
       "      <td>753</td>\n",
       "      <td>754</td>\n",
       "      <td>###</td>\n",
       "      <td>Midwest</td>\n",
       "      <td>Store 18</td>\n",
       "      <td>3/28/2017</td>\n",
       "      <td>13</td>\n",
       "      <td>Apple</td>\n",
       "      <td>iPhone 7 Plus</td>\n",
       "      <td>Installment</td>\n",
       "      <td>...</td>\n",
       "      <td>Building Credit</td>\n",
       "      <td>200</td>\n",
       "      <td>23.75</td>\n",
       "      <td>Phone</td>\n",
       "      <td>Regular</td>\n",
       "      <td>Unlimited Freedom</td>\n",
       "      <td>3</td>\n",
       "      <td>90</td>\n",
       "      <td>223.75</td>\n",
       "      <td>High Price</td>\n",
       "    </tr>\n",
       "    <tr>\n",
       "      <th>3669</th>\n",
       "      <td>3669</td>\n",
       "      <td>3670</td>\n",
       "      <td>###</td>\n",
       "      <td>North East</td>\n",
       "      <td>Store 17</td>\n",
       "      <td>3/11/2017</td>\n",
       "      <td>10</td>\n",
       "      <td>Apple</td>\n",
       "      <td>iPhone 7 Plus</td>\n",
       "      <td>Installment</td>\n",
       "      <td>...</td>\n",
       "      <td>Building Credit</td>\n",
       "      <td>200</td>\n",
       "      <td>23.75</td>\n",
       "      <td>Phone</td>\n",
       "      <td>Regular</td>\n",
       "      <td>Unlimited Freedom</td>\n",
       "      <td>4</td>\n",
       "      <td>120</td>\n",
       "      <td>223.75</td>\n",
       "      <td>High Price</td>\n",
       "    </tr>\n",
       "  </tbody>\n",
       "</table>\n",
       "<p>3 rows × 21 columns</p>\n",
       "</div>"
      ],
      "text/plain": [
       "      Unnamed: 0    ID Customer ID      Region     Store       Date  Week  \\\n",
       "5639        5639  5640         ###     Midwest  Store 10   1/5/2017     1   \n",
       "753          753   754         ###     Midwest  Store 18  3/28/2017    13   \n",
       "3669        3669  3670         ###  North East  Store 17  3/11/2017    10   \n",
       "\n",
       "     Phone Type    Phone Model    Agreement     ...      Credit Category  \\\n",
       "5639      Apple  iPhone 7 Plus  Installment     ...      Building Credit   \n",
       "753       Apple  iPhone 7 Plus  Installment     ...      Building Credit   \n",
       "3669      Apple  iPhone 7 Plus  Installment     ...      Building Credit   \n",
       "\n",
       "     Down payment  Per Month for phone  Plan For     Type          Plan Name  \\\n",
       "5639          200                23.75     Phone  Regular  Unlimited Freedom   \n",
       "753           200                23.75     Phone  Regular  Unlimited Freedom   \n",
       "3669          200                23.75     Phone  Regular  Unlimited Freedom   \n",
       "\n",
       "     Line  per month for plan    Price     tagging  \n",
       "5639    1                   60  223.75  High Price  \n",
       "753     3                   90  223.75  High Price  \n",
       "3669    4                  120  223.75  High Price  \n",
       "\n",
       "[3 rows x 21 columns]"
      ]
     },
     "execution_count": 84,
     "metadata": {},
     "output_type": "execute_result"
    }
   ],
   "source": [
    "a.head(3)"
   ]
  },
  {
   "cell_type": "code",
   "execution_count": 90,
   "metadata": {},
   "outputs": [],
   "source": [
    "a = pd.DataFrame([1,2,3,4], columns=[\"A\"], index=\"US FR AUSS EUR\".split(\" \"))"
   ]
  },
  {
   "cell_type": "code",
   "execution_count": 91,
   "metadata": {},
   "outputs": [
    {
     "data": {
      "text/html": [
       "<div>\n",
       "<style>\n",
       "    .dataframe thead tr:only-child th {\n",
       "        text-align: right;\n",
       "    }\n",
       "\n",
       "    .dataframe thead th {\n",
       "        text-align: left;\n",
       "    }\n",
       "\n",
       "    .dataframe tbody tr th {\n",
       "        vertical-align: top;\n",
       "    }\n",
       "</style>\n",
       "<table border=\"1\" class=\"dataframe\">\n",
       "  <thead>\n",
       "    <tr style=\"text-align: right;\">\n",
       "      <th></th>\n",
       "      <th>A</th>\n",
       "    </tr>\n",
       "  </thead>\n",
       "  <tbody>\n",
       "    <tr>\n",
       "      <th>US</th>\n",
       "      <td>1</td>\n",
       "    </tr>\n",
       "    <tr>\n",
       "      <th>FR</th>\n",
       "      <td>2</td>\n",
       "    </tr>\n",
       "    <tr>\n",
       "      <th>AUSS</th>\n",
       "      <td>3</td>\n",
       "    </tr>\n",
       "    <tr>\n",
       "      <th>EUR</th>\n",
       "      <td>4</td>\n",
       "    </tr>\n",
       "  </tbody>\n",
       "</table>\n",
       "</div>"
      ],
      "text/plain": [
       "      A\n",
       "US    1\n",
       "FR    2\n",
       "AUSS  3\n",
       "EUR   4"
      ]
     },
     "execution_count": 91,
     "metadata": {},
     "output_type": "execute_result"
    }
   ],
   "source": [
    "a"
   ]
  },
  {
   "cell_type": "code",
   "execution_count": 92,
   "metadata": {
    "collapsed": true
   },
   "outputs": [],
   "source": [
    "a.reset_index(inplace=True)"
   ]
  },
  {
   "cell_type": "code",
   "execution_count": 94,
   "metadata": {},
   "outputs": [],
   "source": [
    "a.drop(\"index\", axis= 1, inplace=True)"
   ]
  },
  {
   "cell_type": "code",
   "execution_count": 96,
   "metadata": {},
   "outputs": [],
   "source": [
    "a.columns = [0]"
   ]
  },
  {
   "cell_type": "code",
   "execution_count": 97,
   "metadata": {},
   "outputs": [
    {
     "data": {
      "text/html": [
       "<div>\n",
       "<style>\n",
       "    .dataframe thead tr:only-child th {\n",
       "        text-align: right;\n",
       "    }\n",
       "\n",
       "    .dataframe thead th {\n",
       "        text-align: left;\n",
       "    }\n",
       "\n",
       "    .dataframe tbody tr th {\n",
       "        vertical-align: top;\n",
       "    }\n",
       "</style>\n",
       "<table border=\"1\" class=\"dataframe\">\n",
       "  <thead>\n",
       "    <tr style=\"text-align: right;\">\n",
       "      <th></th>\n",
       "      <th>0</th>\n",
       "    </tr>\n",
       "  </thead>\n",
       "  <tbody>\n",
       "    <tr>\n",
       "      <th>0</th>\n",
       "      <td>1</td>\n",
       "    </tr>\n",
       "    <tr>\n",
       "      <th>1</th>\n",
       "      <td>2</td>\n",
       "    </tr>\n",
       "    <tr>\n",
       "      <th>2</th>\n",
       "      <td>3</td>\n",
       "    </tr>\n",
       "    <tr>\n",
       "      <th>3</th>\n",
       "      <td>4</td>\n",
       "    </tr>\n",
       "  </tbody>\n",
       "</table>\n",
       "</div>"
      ],
      "text/plain": [
       "   0\n",
       "0  1\n",
       "1  2\n",
       "2  3\n",
       "3  4"
      ]
     },
     "execution_count": 97,
     "metadata": {},
     "output_type": "execute_result"
    }
   ],
   "source": [
    "a"
   ]
  },
  {
   "cell_type": "code",
   "execution_count": 98,
   "metadata": {
    "collapsed": true
   },
   "outputs": [],
   "source": [
    "a.drop(2, inplace= True)"
   ]
  },
  {
   "cell_type": "code",
   "execution_count": 99,
   "metadata": {},
   "outputs": [
    {
     "data": {
      "text/html": [
       "<div>\n",
       "<style>\n",
       "    .dataframe thead tr:only-child th {\n",
       "        text-align: right;\n",
       "    }\n",
       "\n",
       "    .dataframe thead th {\n",
       "        text-align: left;\n",
       "    }\n",
       "\n",
       "    .dataframe tbody tr th {\n",
       "        vertical-align: top;\n",
       "    }\n",
       "</style>\n",
       "<table border=\"1\" class=\"dataframe\">\n",
       "  <thead>\n",
       "    <tr style=\"text-align: right;\">\n",
       "      <th></th>\n",
       "      <th>0</th>\n",
       "    </tr>\n",
       "  </thead>\n",
       "  <tbody>\n",
       "    <tr>\n",
       "      <th>0</th>\n",
       "      <td>1</td>\n",
       "    </tr>\n",
       "    <tr>\n",
       "      <th>1</th>\n",
       "      <td>2</td>\n",
       "    </tr>\n",
       "    <tr>\n",
       "      <th>3</th>\n",
       "      <td>4</td>\n",
       "    </tr>\n",
       "  </tbody>\n",
       "</table>\n",
       "</div>"
      ],
      "text/plain": [
       "   0\n",
       "0  1\n",
       "1  2\n",
       "3  4"
      ]
     },
     "execution_count": 99,
     "metadata": {},
     "output_type": "execute_result"
    }
   ],
   "source": [
    "a"
   ]
  },
  {
   "cell_type": "code",
   "execution_count": 100,
   "metadata": {
    "collapsed": true
   },
   "outputs": [],
   "source": [
    "a.columns = [\"A\"]"
   ]
  },
  {
   "cell_type": "code",
   "execution_count": 101,
   "metadata": {},
   "outputs": [
    {
     "data": {
      "text/html": [
       "<div>\n",
       "<style>\n",
       "    .dataframe thead tr:only-child th {\n",
       "        text-align: right;\n",
       "    }\n",
       "\n",
       "    .dataframe thead th {\n",
       "        text-align: left;\n",
       "    }\n",
       "\n",
       "    .dataframe tbody tr th {\n",
       "        vertical-align: top;\n",
       "    }\n",
       "</style>\n",
       "<table border=\"1\" class=\"dataframe\">\n",
       "  <thead>\n",
       "    <tr style=\"text-align: right;\">\n",
       "      <th></th>\n",
       "      <th>A</th>\n",
       "    </tr>\n",
       "  </thead>\n",
       "  <tbody>\n",
       "    <tr>\n",
       "      <th>0</th>\n",
       "      <td>1</td>\n",
       "    </tr>\n",
       "    <tr>\n",
       "      <th>1</th>\n",
       "      <td>2</td>\n",
       "    </tr>\n",
       "    <tr>\n",
       "      <th>3</th>\n",
       "      <td>4</td>\n",
       "    </tr>\n",
       "  </tbody>\n",
       "</table>\n",
       "</div>"
      ],
      "text/plain": [
       "   A\n",
       "0  1\n",
       "1  2\n",
       "3  4"
      ]
     },
     "execution_count": 101,
     "metadata": {},
     "output_type": "execute_result"
    }
   ],
   "source": [
    "a"
   ]
  },
  {
   "cell_type": "code",
   "execution_count": 103,
   "metadata": {},
   "outputs": [],
   "source": [
    "# a.index= \"abc\""
   ]
  },
  {
   "cell_type": "code",
   "execution_count": 105,
   "metadata": {},
   "outputs": [],
   "source": [
    "a.index = \"a b c\".split(\" \")"
   ]
  },
  {
   "cell_type": "code",
   "execution_count": 106,
   "metadata": {},
   "outputs": [
    {
     "data": {
      "text/html": [
       "<div>\n",
       "<style>\n",
       "    .dataframe thead tr:only-child th {\n",
       "        text-align: right;\n",
       "    }\n",
       "\n",
       "    .dataframe thead th {\n",
       "        text-align: left;\n",
       "    }\n",
       "\n",
       "    .dataframe tbody tr th {\n",
       "        vertical-align: top;\n",
       "    }\n",
       "</style>\n",
       "<table border=\"1\" class=\"dataframe\">\n",
       "  <thead>\n",
       "    <tr style=\"text-align: right;\">\n",
       "      <th></th>\n",
       "      <th>A</th>\n",
       "    </tr>\n",
       "  </thead>\n",
       "  <tbody>\n",
       "    <tr>\n",
       "      <th>a</th>\n",
       "      <td>1</td>\n",
       "    </tr>\n",
       "    <tr>\n",
       "      <th>b</th>\n",
       "      <td>2</td>\n",
       "    </tr>\n",
       "    <tr>\n",
       "      <th>c</th>\n",
       "      <td>4</td>\n",
       "    </tr>\n",
       "  </tbody>\n",
       "</table>\n",
       "</div>"
      ],
      "text/plain": [
       "   A\n",
       "a  1\n",
       "b  2\n",
       "c  4"
      ]
     },
     "execution_count": 106,
     "metadata": {},
     "output_type": "execute_result"
    }
   ],
   "source": [
    "a"
   ]
  },
  {
   "cell_type": "code",
   "execution_count": null,
   "metadata": {
    "collapsed": true
   },
   "outputs": [],
   "source": []
  }
 ],
 "metadata": {
  "kernelspec": {
   "display_name": "Python 3",
   "language": "python",
   "name": "python3"
  },
  "language_info": {
   "codemirror_mode": {
    "name": "ipython",
    "version": 3
   },
   "file_extension": ".py",
   "mimetype": "text/x-python",
   "name": "python",
   "nbconvert_exporter": "python",
   "pygments_lexer": "ipython3",
   "version": "3.6.3"
  }
 },
 "nbformat": 4,
 "nbformat_minor": 2
}
