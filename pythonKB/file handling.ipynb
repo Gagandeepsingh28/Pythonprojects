{
 "cells": [
  {
   "cell_type": "code",
   "execution_count": 1,
   "metadata": {},
   "outputs": [],
   "source": [
    "import os"
   ]
  },
  {
   "cell_type": "code",
   "execution_count": 2,
   "metadata": {},
   "outputs": [
    {
     "data": {
      "text/plain": [
       "'C:\\\\Users\\\\Ankit'"
      ]
     },
     "execution_count": 2,
     "metadata": {},
     "output_type": "execute_result"
    }
   ],
   "source": [
    "os.getcwd()"
   ]
  },
  {
   "cell_type": "code",
   "execution_count": 3,
   "metadata": {},
   "outputs": [],
   "source": [
    "file = open(\"C:\\\\Users\\\\Ankit\\\\test.txt\", \"w\")"
   ]
  },
  {
   "cell_type": "code",
   "execution_count": 5,
   "metadata": {},
   "outputs": [
    {
     "data": {
      "text/plain": [
       "['.anaconda',\n",
       " '.conda',\n",
       " '.condarc',\n",
       " '.ipynb_checkpoints',\n",
       " '.ipython',\n",
       " '.jupyter',\n",
       " '3D Objects',\n",
       " '4th june stings practice.ipynb',\n",
       " '6th june practice.ipynb',\n",
       " 'Anaconda3',\n",
       " 'AppData',\n",
       " 'Application Data',\n",
       " 'Chained Comparison Operators.ipynb',\n",
       " 'Contacts',\n",
       " 'Cookies',\n",
       " 'Desktop',\n",
       " 'Documents',\n",
       " 'Downloads',\n",
       " 'Enumerate.ipynb',\n",
       " 'Favorites',\n",
       " 'file handling.ipynb',\n",
       " 'Filter.ipynb',\n",
       " 'For Loops.ipynb',\n",
       " 'Functions.ipynb',\n",
       " 'If else .ipynb',\n",
       " 'IntelGraphicsProfiles',\n",
       " 'Iterators and Generators.ipynb',\n",
       " 'Links',\n",
       " 'List Comprehensions.ipynb',\n",
       " 'Local Settings',\n",
       " 'MicrosoftEdgeBackups',\n",
       " 'Music',\n",
       " 'My Documents',\n",
       " 'NetHood',\n",
       " 'NTUSER.DAT',\n",
       " 'ntuser.dat.LOG1',\n",
       " 'ntuser.dat.LOG2',\n",
       " 'NTUSER.DAT{5e521d9f-8474-11e9-9956-705a0f263c78}.TM.blf',\n",
       " 'NTUSER.DAT{5e521d9f-8474-11e9-9956-705a0f263c78}.TMContainer00000000000000000001.regtrans-ms',\n",
       " 'NTUSER.DAT{5e521d9f-8474-11e9-9956-705a0f263c78}.TMContainer00000000000000000002.regtrans-ms',\n",
       " 'ntuser.ini',\n",
       " 'OneDrive',\n",
       " 'Oracle',\n",
       " 'Pictures',\n",
       " 'PrintHood',\n",
       " 'Recent',\n",
       " 'Saved Games',\n",
       " 'ScStore',\n",
       " 'Searches',\n",
       " 'SendTo',\n",
       " 'SIR 11 jun functions .ipynb',\n",
       " 'SIR 12 june inbuilt functions .ipynb',\n",
       " 'SIR 4 june strings.ipynb',\n",
       " 'SIR 6 june data structure.ipynb',\n",
       " 'SIR 7 June loop .ipynb',\n",
       " 'Start Menu',\n",
       " 'Templates',\n",
       " 'test.txt',\n",
       " 'Untitled.ipynb',\n",
       " 'Videos',\n",
       " 'While loops.ipynb',\n",
       " 'Z practice.ipynb',\n",
       " 'zzzz home work for loop.ipynb']"
      ]
     },
     "execution_count": 5,
     "metadata": {},
     "output_type": "execute_result"
    }
   ],
   "source": [
    "os.listdir()"
   ]
  },
  {
   "cell_type": "code",
   "execution_count": 6,
   "metadata": {},
   "outputs": [
    {
     "data": {
      "text/plain": [
       "5"
      ]
     },
     "execution_count": 6,
     "metadata": {},
     "output_type": "execute_result"
    }
   ],
   "source": [
    "file.write(\"hello\")"
   ]
  },
  {
   "cell_type": "code",
   "execution_count": 7,
   "metadata": {},
   "outputs": [],
   "source": [
    "file.close()"
   ]
  },
  {
   "cell_type": "code",
   "execution_count": 13,
   "metadata": {},
   "outputs": [],
   "source": [
    "file = open(\"C:\\\\Users\\\\Ankit\\\\test.txt\")"
   ]
  },
  {
   "cell_type": "code",
   "execution_count": 14,
   "metadata": {},
   "outputs": [
    {
     "data": {
      "text/plain": [
       "_io.TextIOWrapper"
      ]
     },
     "execution_count": 14,
     "metadata": {},
     "output_type": "execute_result"
    }
   ],
   "source": [
    "type(file)"
   ]
  },
  {
   "cell_type": "code",
   "execution_count": 15,
   "metadata": {},
   "outputs": [
    {
     "name": "stdout",
     "output_type": "stream",
     "text": [
      "hello\n",
      "how are you?\n",
      "i am good\n",
      "hows lifr going?\n"
     ]
    }
   ],
   "source": [
    "print(file.read())"
   ]
  },
  {
   "cell_type": "code",
   "execution_count": 16,
   "metadata": {},
   "outputs": [],
   "source": [
    "file.close()"
   ]
  },
  {
   "cell_type": "code",
   "execution_count": 18,
   "metadata": {},
   "outputs": [],
   "source": [
    "file = open(\"C:\\\\Users\\\\Ankit\\\\test.txt\", \"a\")"
   ]
  },
  {
   "cell_type": "code",
   "execution_count": 19,
   "metadata": {},
   "outputs": [
    {
     "data": {
      "text/plain": [
       "18"
      ]
     },
     "execution_count": 19,
     "metadata": {},
     "output_type": "execute_result"
    }
   ],
   "source": [
    "file.write(\"its going good !!!\")"
   ]
  },
  {
   "cell_type": "code",
   "execution_count": 20,
   "metadata": {},
   "outputs": [],
   "source": [
    "file.close()"
   ]
  },
  {
   "cell_type": "code",
   "execution_count": 21,
   "metadata": {},
   "outputs": [
    {
     "name": "stdout",
     "output_type": "stream",
     "text": [
      "hello\n",
      "how are you?\n",
      "i am good\n",
      "hows lifr going?its going good !!!\n"
     ]
    }
   ],
   "source": [
    "file = open(\"C:\\\\Users\\\\Ankit\\\\test.txt\")\n",
    "\n",
    "print(file.read())\n",
    "file.close()"
   ]
  },
  {
   "cell_type": "code",
   "execution_count": 22,
   "metadata": {},
   "outputs": [],
   "source": [
    "with open(\"C:\\\\Users\\\\Ankit\\\\test.txt\", \"a\") as file:\n",
    "    file.write(\"hey\")"
   ]
  },
  {
   "cell_type": "code",
   "execution_count": 23,
   "metadata": {},
   "outputs": [
    {
     "name": "stdout",
     "output_type": "stream",
     "text": [
      "hello\n",
      "how are you?\n",
      "i am good\n",
      "hows lifr going?its going good !!!hey\n"
     ]
    }
   ],
   "source": [
    "with open(\"C:\\\\Users\\\\Ankit\\\\test.txt\") as file:\n",
    "    print(file.read())"
   ]
  },
  {
   "cell_type": "code",
   "execution_count": 25,
   "metadata": {},
   "outputs": [],
   "source": [
    "with open(\"C:\\\\Users\\\\Ankit\\\\test.txt\") as file:\n",
    "    a = file.readlines()"
   ]
  },
  {
   "cell_type": "code",
   "execution_count": 26,
   "metadata": {},
   "outputs": [
    {
     "data": {
      "text/plain": [
       "['hello\\n',\n",
       " 'how are you?\\n',\n",
       " 'i am good\\n',\n",
       " 'hows lifr going?its going good !!!hey']"
      ]
     },
     "execution_count": 26,
     "metadata": {},
     "output_type": "execute_result"
    }
   ],
   "source": [
    "a"
   ]
  },
  {
   "cell_type": "code",
   "execution_count": 28,
   "metadata": {},
   "outputs": [],
   "source": [
    "with open(\"C:\\\\Users\\\\Ankit\\\\test.txt\", \"a\") as file:\n",
    "    file.write('[1,2,3]')"
   ]
  },
  {
   "cell_type": "code",
   "execution_count": 29,
   "metadata": {},
   "outputs": [
    {
     "name": "stdout",
     "output_type": "stream",
     "text": [
      "['hello\\n', 'how are you?\\n', 'i am good\\n', 'hows lifr going?its going good !!!hey[1,2,3]']\n"
     ]
    }
   ],
   "source": [
    "with open(\"C:\\\\Users\\\\Ankit\\\\test.txt\", \"r\") as file:\n",
    "    print(file.readlines())"
   ]
  },
  {
   "cell_type": "code",
   "execution_count": 30,
   "metadata": {},
   "outputs": [],
   "source": [
    "with open(\"C:\\\\Users\\\\Ankit\\\\test.txt\", \"w\") as file:\n",
    "    file.write('[1,2,3]')\n",
    "    file.write('([1,2,3])')\n",
    "    file.write('{[1,2,3]}')"
   ]
  },
  {
   "cell_type": "code",
   "execution_count": 31,
   "metadata": {},
   "outputs": [
    {
     "name": "stdout",
     "output_type": "stream",
     "text": [
      "['[1,2,3]([1,2,3]){[1,2,3]}']\n"
     ]
    }
   ],
   "source": [
    "with open(\"C:\\\\Users\\\\Ankit\\\\test.txt\", \"r\") as file:\n",
    "    print(file.readlines())"
   ]
  },
  {
   "cell_type": "code",
   "execution_count": 32,
   "metadata": {},
   "outputs": [],
   "source": [
    "import pickle"
   ]
  },
  {
   "cell_type": "code",
   "execution_count": 34,
   "metadata": {},
   "outputs": [],
   "source": [
    "with open(\"C:\\\\Users\\\\Ankit\\\\test.txt\", \"wb\") as file:\n",
    "    pickle.dump([1,2,3],file)"
   ]
  },
  {
   "cell_type": "code",
   "execution_count": 36,
   "metadata": {},
   "outputs": [
    {
     "name": "stdout",
     "output_type": "stream",
     "text": [
      "[1, 2, 3]\n"
     ]
    }
   ],
   "source": [
    "with open(\"C:\\\\Users\\\\Ankit\\\\test.txt\", \"rb\") as file:\n",
    "    print(pickle.load(file))"
   ]
  },
  {
   "cell_type": "code",
   "execution_count": 37,
   "metadata": {},
   "outputs": [],
   "source": [
    "with open(\"C:\\\\Users\\\\Ankit\\\\test.txt\", \"wb\") as file:\n",
    "    pickle.dump([1,2,3],file)\n",
    "    pickle.dump([1,2,3,4],file)"
   ]
  },
  {
   "cell_type": "code",
   "execution_count": 39,
   "metadata": {},
   "outputs": [
    {
     "name": "stdout",
     "output_type": "stream",
     "text": [
      "[1, 2, 3]\n",
      "[1, 2, 3, 4]\n"
     ]
    }
   ],
   "source": [
    "with open(\"C:\\\\Users\\\\Ankit\\\\test.txt\", \"rb\") as file:\n",
    "    print(pickle.load(file))\n",
    "    print(pickle.load(file))"
   ]
  },
  {
   "cell_type": "code",
   "execution_count": 41,
   "metadata": {},
   "outputs": [
    {
     "name": "stdout",
     "output_type": "stream",
     "text": [
      "[1, 2, 3]\n"
     ]
    }
   ],
   "source": [
    "with open(\"C:\\\\Users\\\\Ankit\\\\test.txt\", \"rb\") as file:\n",
    "    print(pickle.load(file))\n",
    "#     print(pickle.load(file))"
   ]
  },
  {
   "cell_type": "code",
   "execution_count": 42,
   "metadata": {},
   "outputs": [],
   "source": [
    "try:\n",
    "    1\n",
    "except EOFError:\n",
    "    print(\"\")"
   ]
  },
  {
   "cell_type": "code",
   "execution_count": 44,
   "metadata": {},
   "outputs": [],
   "source": [
    "################## generators and iterators ################"
   ]
  },
  {
   "cell_type": "code",
   "execution_count": 45,
   "metadata": {},
   "outputs": [],
   "source": [
    "li = [1,2,3,4,5]"
   ]
  },
  {
   "cell_type": "code",
   "execution_count": 46,
   "metadata": {},
   "outputs": [
    {
     "ename": "TypeError",
     "evalue": "'list' object is not an iterator",
     "output_type": "error",
     "traceback": [
      "\u001b[1;31m---------------------------------------------------------------------------\u001b[0m",
      "\u001b[1;31mTypeError\u001b[0m                                 Traceback (most recent call last)",
      "\u001b[1;32m<ipython-input-46-c9b8845252db>\u001b[0m in \u001b[0;36m<module>\u001b[1;34m\u001b[0m\n\u001b[1;32m----> 1\u001b[1;33m \u001b[0mnext\u001b[0m\u001b[1;33m(\u001b[0m\u001b[0mli\u001b[0m\u001b[1;33m)\u001b[0m\u001b[1;33m\u001b[0m\u001b[1;33m\u001b[0m\u001b[0m\n\u001b[0m",
      "\u001b[1;31mTypeError\u001b[0m: 'list' object is not an iterator"
     ]
    }
   ],
   "source": [
    "next(li)"
   ]
  },
  {
   "cell_type": "code",
   "execution_count": 47,
   "metadata": {},
   "outputs": [],
   "source": [
    "li_itr = iter(li)"
   ]
  },
  {
   "cell_type": "code",
   "execution_count": 53,
   "metadata": {},
   "outputs": [
    {
     "ename": "StopIteration",
     "evalue": "",
     "output_type": "error",
     "traceback": [
      "\u001b[1;31m---------------------------------------------------------------------------\u001b[0m",
      "\u001b[1;31mStopIteration\u001b[0m                             Traceback (most recent call last)",
      "\u001b[1;32m<ipython-input-53-575b4c9a93b9>\u001b[0m in \u001b[0;36m<module>\u001b[1;34m\u001b[0m\n\u001b[1;32m----> 1\u001b[1;33m \u001b[0mnext\u001b[0m\u001b[1;33m(\u001b[0m\u001b[0mli_itr\u001b[0m\u001b[1;33m)\u001b[0m\u001b[1;33m\u001b[0m\u001b[1;33m\u001b[0m\u001b[0m\n\u001b[0m",
      "\u001b[1;31mStopIteration\u001b[0m: "
     ]
    }
   ],
   "source": [
    "next(li_itr)"
   ]
  },
  {
   "cell_type": "code",
   "execution_count": 54,
   "metadata": {},
   "outputs": [],
   "source": [
    "def cube(number):\n",
    "    new_li = []\n",
    "    for i in range(1,number):\n",
    "        new_li.append(i**3)\n",
    "        \n",
    "    return new_li"
   ]
  },
  {
   "cell_type": "code",
   "execution_count": 56,
   "metadata": {
    "collapsed": true
   },
   "outputs": [
    {
     "data": {
      "text/plain": [
       "[1,\n",
       " 8,\n",
       " 27,\n",
       " 64,\n",
       " 125,\n",
       " 216,\n",
       " 343,\n",
       " 512,\n",
       " 729,\n",
       " 1000,\n",
       " 1331,\n",
       " 1728,\n",
       " 2197,\n",
       " 2744,\n",
       " 3375,\n",
       " 4096,\n",
       " 4913,\n",
       " 5832,\n",
       " 6859,\n",
       " 8000,\n",
       " 9261,\n",
       " 10648,\n",
       " 12167,\n",
       " 13824,\n",
       " 15625,\n",
       " 17576,\n",
       " 19683,\n",
       " 21952,\n",
       " 24389,\n",
       " 27000,\n",
       " 29791,\n",
       " 32768,\n",
       " 35937,\n",
       " 39304,\n",
       " 42875,\n",
       " 46656,\n",
       " 50653,\n",
       " 54872,\n",
       " 59319,\n",
       " 64000,\n",
       " 68921,\n",
       " 74088,\n",
       " 79507,\n",
       " 85184,\n",
       " 91125,\n",
       " 97336,\n",
       " 103823,\n",
       " 110592,\n",
       " 117649,\n",
       " 125000,\n",
       " 132651,\n",
       " 140608,\n",
       " 148877,\n",
       " 157464,\n",
       " 166375,\n",
       " 175616,\n",
       " 185193,\n",
       " 195112,\n",
       " 205379,\n",
       " 216000,\n",
       " 226981,\n",
       " 238328,\n",
       " 250047,\n",
       " 262144,\n",
       " 274625,\n",
       " 287496,\n",
       " 300763,\n",
       " 314432,\n",
       " 328509,\n",
       " 343000,\n",
       " 357911,\n",
       " 373248,\n",
       " 389017,\n",
       " 405224,\n",
       " 421875,\n",
       " 438976,\n",
       " 456533,\n",
       " 474552,\n",
       " 493039,\n",
       " 512000,\n",
       " 531441,\n",
       " 551368,\n",
       " 571787,\n",
       " 592704,\n",
       " 614125,\n",
       " 636056,\n",
       " 658503,\n",
       " 681472,\n",
       " 704969,\n",
       " 729000,\n",
       " 753571,\n",
       " 778688,\n",
       " 804357,\n",
       " 830584,\n",
       " 857375,\n",
       " 884736,\n",
       " 912673,\n",
       " 941192,\n",
       " 970299]"
      ]
     },
     "execution_count": 56,
     "metadata": {},
     "output_type": "execute_result"
    }
   ],
   "source": [
    "cube(100)"
   ]
  },
  {
   "cell_type": "code",
   "execution_count": 57,
   "metadata": {},
   "outputs": [],
   "source": [
    "def cube(number):\n",
    "    for i in range(1,number):\n",
    "        yield i**3"
   ]
  },
  {
   "cell_type": "code",
   "execution_count": 58,
   "metadata": {},
   "outputs": [],
   "source": [
    "res = cube(1000)"
   ]
  },
  {
   "cell_type": "code",
   "execution_count": 59,
   "metadata": {},
   "outputs": [
    {
     "data": {
      "text/plain": [
       "<generator object cube at 0x000002D9C4C1B7C8>"
      ]
     },
     "execution_count": 59,
     "metadata": {},
     "output_type": "execute_result"
    }
   ],
   "source": [
    "res"
   ]
  },
  {
   "cell_type": "code",
   "execution_count": 64,
   "metadata": {},
   "outputs": [
    {
     "data": {
      "text/plain": [
       "125"
      ]
     },
     "execution_count": 64,
     "metadata": {},
     "output_type": "execute_result"
    }
   ],
   "source": [
    "next(res)"
   ]
  },
  {
   "cell_type": "code",
   "execution_count": 65,
   "metadata": {},
   "outputs": [
    {
     "data": {
      "text/plain": [
       "27"
      ]
     },
     "execution_count": 65,
     "metadata": {},
     "output_type": "execute_result"
    }
   ],
   "source": [
    "a = 3\n",
    "a **3"
   ]
  },
  {
   "cell_type": "code",
   "execution_count": 66,
   "metadata": {},
   "outputs": [
    {
     "data": {
      "text/plain": [
       "216"
      ]
     },
     "execution_count": 66,
     "metadata": {},
     "output_type": "execute_result"
    }
   ],
   "source": [
    "next(res)"
   ]
  },
  {
   "cell_type": "code",
   "execution_count": 67,
   "metadata": {},
   "outputs": [],
   "source": [
    "def cube(number):\n",
    "    for i in range(1,number):\n",
    "        yield i**3"
   ]
  },
  {
   "cell_type": "code",
   "execution_count": 68,
   "metadata": {},
   "outputs": [],
   "source": [
    "res = (i**3 for i in range(1,1000))"
   ]
  },
  {
   "cell_type": "code",
   "execution_count": 69,
   "metadata": {},
   "outputs": [],
   "source": [
    "#Classes and Objects"
   ]
  },
  {
   "cell_type": "code",
   "execution_count": 70,
   "metadata": {},
   "outputs": [],
   "source": [
    "l = list()"
   ]
  },
  {
   "cell_type": "code",
   "execution_count": 71,
   "metadata": {},
   "outputs": [
    {
     "data": {
      "text/plain": [
       "[]"
      ]
     },
     "execution_count": 71,
     "metadata": {},
     "output_type": "execute_result"
    }
   ],
   "source": [
    "l"
   ]
  },
  {
   "cell_type": "code",
   "execution_count": 72,
   "metadata": {},
   "outputs": [],
   "source": [
    "# class <class name> ():\n",
    "#     pass"
   ]
  },
  {
   "cell_type": "code",
   "execution_count": 75,
   "metadata": {},
   "outputs": [],
   "source": [
    "class Myclass:\n",
    "    pass"
   ]
  },
  {
   "cell_type": "code",
   "execution_count": 76,
   "metadata": {},
   "outputs": [],
   "source": [
    "obj = Myclass()"
   ]
  },
  {
   "cell_type": "code",
   "execution_count": 77,
   "metadata": {},
   "outputs": [
    {
     "data": {
      "text/plain": [
       "<__main__.Myclass at 0x2d9c4ee5b00>"
      ]
     },
     "execution_count": 77,
     "metadata": {},
     "output_type": "execute_result"
    }
   ],
   "source": [
    "obj"
   ]
  },
  {
   "cell_type": "code",
   "execution_count": 85,
   "metadata": {},
   "outputs": [],
   "source": [
    "class Myclass:\n",
    "    def message(self):\n",
    "        print(self)\n",
    "        print(\"Hello !!!!\")"
   ]
  },
  {
   "cell_type": "code",
   "execution_count": 86,
   "metadata": {},
   "outputs": [],
   "source": [
    "obj = Myclass()"
   ]
  },
  {
   "cell_type": "code",
   "execution_count": 87,
   "metadata": {},
   "outputs": [
    {
     "name": "stdout",
     "output_type": "stream",
     "text": [
      "<__main__.Myclass object at 0x000002D9C4DADEF0>\n",
      "Hello !!!!\n"
     ]
    }
   ],
   "source": [
    "obj.message()"
   ]
  },
  {
   "cell_type": "code",
   "execution_count": 88,
   "metadata": {},
   "outputs": [
    {
     "name": "stdout",
     "output_type": "stream",
     "text": [
      "<__main__.Myclass object at 0x000002D9C4DADEF0>\n",
      "Hello !!!!\n"
     ]
    }
   ],
   "source": [
    "Myclass.message(obj)"
   ]
  },
  {
   "cell_type": "code",
   "execution_count": 93,
   "metadata": {},
   "outputs": [],
   "source": [
    "class Myclass:\n",
    "    a = 10\n",
    "    def message(self):\n",
    "        self.a = 12\n",
    "        print(self)\n",
    "        print(\"Hello !!!!\")\n",
    "        print(self.a)"
   ]
  },
  {
   "cell_type": "code",
   "execution_count": 94,
   "metadata": {},
   "outputs": [],
   "source": [
    "obj = Myclass()"
   ]
  },
  {
   "cell_type": "code",
   "execution_count": 95,
   "metadata": {},
   "outputs": [
    {
     "name": "stdout",
     "output_type": "stream",
     "text": [
      "<__main__.Myclass object at 0x000002D9C4ED86D8>\n",
      "Hello !!!!\n",
      "12\n"
     ]
    }
   ],
   "source": [
    "obj.message()"
   ]
  },
  {
   "cell_type": "code",
   "execution_count": 96,
   "metadata": {},
   "outputs": [
    {
     "data": {
      "text/plain": [
       "{'a': 12}"
      ]
     },
     "execution_count": 96,
     "metadata": {},
     "output_type": "execute_result"
    }
   ],
   "source": [
    "obj.__dict__"
   ]
  },
  {
   "cell_type": "code",
   "execution_count": 101,
   "metadata": {},
   "outputs": [],
   "source": [
    "class employee:\n",
    "    a = 10\n",
    "    def details(self):\n",
    "        self.sal = 120000\n",
    "        name = \"ajay\"\n",
    "        print(self.sal)\n",
    "        print(name)\n",
    "        \n",
    "    def check(self,name):\n",
    "        print(self.sal)\n",
    "        print(name)\n",
    "        \n",
    "        "
   ]
  },
  {
   "cell_type": "code",
   "execution_count": 102,
   "metadata": {},
   "outputs": [],
   "source": [
    "emp = employee()"
   ]
  },
  {
   "cell_type": "code",
   "execution_count": 103,
   "metadata": {},
   "outputs": [
    {
     "name": "stdout",
     "output_type": "stream",
     "text": [
      "120000\n",
      "ajay\n"
     ]
    }
   ],
   "source": [
    "emp.details()"
   ]
  },
  {
   "cell_type": "code",
   "execution_count": 104,
   "metadata": {},
   "outputs": [
    {
     "name": "stdout",
     "output_type": "stream",
     "text": [
      "120000\n",
      "ankit\n"
     ]
    }
   ],
   "source": [
    "emp.check(\"ankit\")"
   ]
  },
  {
   "cell_type": "code",
   "execution_count": null,
   "metadata": {},
   "outputs": [],
   "source": []
  }
 ],
 "metadata": {
  "kernelspec": {
   "display_name": "Python 3",
   "language": "python",
   "name": "python3"
  },
  "language_info": {
   "codemirror_mode": {
    "name": "ipython",
    "version": 3
   },
   "file_extension": ".py",
   "mimetype": "text/x-python",
   "name": "python",
   "nbconvert_exporter": "python",
   "pygments_lexer": "ipython3",
   "version": "3.7.3"
  }
 },
 "nbformat": 4,
 "nbformat_minor": 2
}
